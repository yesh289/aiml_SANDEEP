{
  "nbformat": 4,
  "nbformat_minor": 0,
  "metadata": {
    "colab": {
      "provenance": [],
      "authorship_tag": "ABX9TyOkUjVqUFtokfinlUKXRw8p",
      "include_colab_link": true
    },
    "kernelspec": {
      "name": "python3",
      "display_name": "Python 3"
    },
    "language_info": {
      "name": "python"
    }
  },
  "cells": [
    {
      "cell_type": "markdown",
      "metadata": {
        "id": "view-in-github",
        "colab_type": "text"
      },
      "source": [
        "<a href=\"https://colab.research.google.com/github/yesh289/aiml_SANDEEP/blob/main/Untitled0.ipynb\" target=\"_parent\"><img src=\"https://colab.research.google.com/assets/colab-badge.svg\" alt=\"Open In Colab\"/></a>"
      ]
    },
    {
      "cell_type": "code",
      "source": [
        "!pip install streamlit"
      ],
      "metadata": {
        "colab": {
          "base_uri": "https://localhost:8080/"
        },
        "id": "iM4fExuiCm1n",
        "outputId": "6aaf3bc2-af18-4cc1-ced7-0e72f1f4cf00"
      },
      "execution_count": 9,
      "outputs": [
        {
          "output_type": "stream",
          "name": "stdout",
          "text": [
            "Requirement already satisfied: streamlit in /usr/local/lib/python3.11/dist-packages (1.43.0)\n",
            "Requirement already satisfied: altair<6,>=4.0 in /usr/local/lib/python3.11/dist-packages (from streamlit) (5.5.0)\n",
            "Requirement already satisfied: blinker<2,>=1.0.0 in /usr/local/lib/python3.11/dist-packages (from streamlit) (1.9.0)\n",
            "Requirement already satisfied: cachetools<6,>=4.0 in /usr/local/lib/python3.11/dist-packages (from streamlit) (5.5.2)\n",
            "Requirement already satisfied: click<9,>=7.0 in /usr/local/lib/python3.11/dist-packages (from streamlit) (8.1.8)\n",
            "Requirement already satisfied: numpy<3,>=1.23 in /usr/local/lib/python3.11/dist-packages (from streamlit) (1.26.4)\n",
            "Requirement already satisfied: packaging<25,>=20 in /usr/local/lib/python3.11/dist-packages (from streamlit) (24.2)\n",
            "Requirement already satisfied: pandas<3,>=1.4.0 in /usr/local/lib/python3.11/dist-packages (from streamlit) (2.2.2)\n",
            "Requirement already satisfied: pillow<12,>=7.1.0 in /usr/local/lib/python3.11/dist-packages (from streamlit) (11.1.0)\n",
            "Requirement already satisfied: protobuf<6,>=3.20 in /usr/local/lib/python3.11/dist-packages (from streamlit) (4.25.6)\n",
            "Requirement already satisfied: pyarrow>=7.0 in /usr/local/lib/python3.11/dist-packages (from streamlit) (18.1.0)\n",
            "Requirement already satisfied: requests<3,>=2.27 in /usr/local/lib/python3.11/dist-packages (from streamlit) (2.32.3)\n",
            "Requirement already satisfied: tenacity<10,>=8.1.0 in /usr/local/lib/python3.11/dist-packages (from streamlit) (9.0.0)\n",
            "Requirement already satisfied: toml<2,>=0.10.1 in /usr/local/lib/python3.11/dist-packages (from streamlit) (0.10.2)\n",
            "Requirement already satisfied: typing-extensions<5,>=4.4.0 in /usr/local/lib/python3.11/dist-packages (from streamlit) (4.12.2)\n",
            "Requirement already satisfied: watchdog<7,>=2.1.5 in /usr/local/lib/python3.11/dist-packages (from streamlit) (6.0.0)\n",
            "Requirement already satisfied: gitpython!=3.1.19,<4,>=3.0.7 in /usr/local/lib/python3.11/dist-packages (from streamlit) (3.1.44)\n",
            "Requirement already satisfied: pydeck<1,>=0.8.0b4 in /usr/local/lib/python3.11/dist-packages (from streamlit) (0.9.1)\n",
            "Requirement already satisfied: tornado<7,>=6.0.3 in /usr/local/lib/python3.11/dist-packages (from streamlit) (6.4.2)\n",
            "Requirement already satisfied: jinja2 in /usr/local/lib/python3.11/dist-packages (from altair<6,>=4.0->streamlit) (3.1.5)\n",
            "Requirement already satisfied: jsonschema>=3.0 in /usr/local/lib/python3.11/dist-packages (from altair<6,>=4.0->streamlit) (4.23.0)\n",
            "Requirement already satisfied: narwhals>=1.14.2 in /usr/local/lib/python3.11/dist-packages (from altair<6,>=4.0->streamlit) (1.29.0)\n",
            "Requirement already satisfied: gitdb<5,>=4.0.1 in /usr/local/lib/python3.11/dist-packages (from gitpython!=3.1.19,<4,>=3.0.7->streamlit) (4.0.12)\n",
            "Requirement already satisfied: python-dateutil>=2.8.2 in /usr/local/lib/python3.11/dist-packages (from pandas<3,>=1.4.0->streamlit) (2.8.2)\n",
            "Requirement already satisfied: pytz>=2020.1 in /usr/local/lib/python3.11/dist-packages (from pandas<3,>=1.4.0->streamlit) (2025.1)\n",
            "Requirement already satisfied: tzdata>=2022.7 in /usr/local/lib/python3.11/dist-packages (from pandas<3,>=1.4.0->streamlit) (2025.1)\n",
            "Requirement already satisfied: charset-normalizer<4,>=2 in /usr/local/lib/python3.11/dist-packages (from requests<3,>=2.27->streamlit) (3.4.1)\n",
            "Requirement already satisfied: idna<4,>=2.5 in /usr/local/lib/python3.11/dist-packages (from requests<3,>=2.27->streamlit) (3.10)\n",
            "Requirement already satisfied: urllib3<3,>=1.21.1 in /usr/local/lib/python3.11/dist-packages (from requests<3,>=2.27->streamlit) (2.3.0)\n",
            "Requirement already satisfied: certifi>=2017.4.17 in /usr/local/lib/python3.11/dist-packages (from requests<3,>=2.27->streamlit) (2025.1.31)\n",
            "Requirement already satisfied: smmap<6,>=3.0.1 in /usr/local/lib/python3.11/dist-packages (from gitdb<5,>=4.0.1->gitpython!=3.1.19,<4,>=3.0.7->streamlit) (5.0.2)\n",
            "Requirement already satisfied: MarkupSafe>=2.0 in /usr/local/lib/python3.11/dist-packages (from jinja2->altair<6,>=4.0->streamlit) (3.0.2)\n",
            "Requirement already satisfied: attrs>=22.2.0 in /usr/local/lib/python3.11/dist-packages (from jsonschema>=3.0->altair<6,>=4.0->streamlit) (25.1.0)\n",
            "Requirement already satisfied: jsonschema-specifications>=2023.03.6 in /usr/local/lib/python3.11/dist-packages (from jsonschema>=3.0->altair<6,>=4.0->streamlit) (2024.10.1)\n",
            "Requirement already satisfied: referencing>=0.28.4 in /usr/local/lib/python3.11/dist-packages (from jsonschema>=3.0->altair<6,>=4.0->streamlit) (0.36.2)\n",
            "Requirement already satisfied: rpds-py>=0.7.1 in /usr/local/lib/python3.11/dist-packages (from jsonschema>=3.0->altair<6,>=4.0->streamlit) (0.23.1)\n",
            "Requirement already satisfied: six>=1.5 in /usr/local/lib/python3.11/dist-packages (from python-dateutil>=2.8.2->pandas<3,>=1.4.0->streamlit) (1.17.0)\n"
          ]
        }
      ]
    },
    {
      "cell_type": "code",
      "source": [
        "%%writefile app.py\n",
        "\n",
        "import streamlit as st\n",
        "import pandas as pd\n",
        "import numpy as np\n",
        "from sklearn.tree import DecisionTreeClassifier\n",
        "from sklearn.model_selection import train_test_split\n",
        "from imblearn.over_sampling import SMOTE\n",
        "\n",
        "# Load and preprocess the dataset\n",
        "data = pd.read_csv(\"/content/Heart_Disease_Dataset.csv\")  # Replace with your actual dataset path\n",
        "\n",
        "# Preprocessing steps\n",
        "binary_columns = ['Smoking', 'AlcoholDrinking', 'Stroke', 'DiffWalking', 'PhysicalActivity', 'Asthma', 'KidneyDisease', 'SkinCancer']\n",
        "for col in binary_columns:\n",
        "    data[col] = data[col].map({'Yes': 1, 'No': 0})\n",
        "\n",
        "# One-hot encode categorical columns\n",
        "data = pd.get_dummies(data, columns=['Sex', 'AgeCategory', 'Race', 'GenHealth', 'Diabetic'], drop_first=True)\n",
        "\n",
        "# Define features and target\n",
        "X = data.drop(columns=['HeartDisease'])\n",
        "y = data['HeartDisease'].map({'Yes': 1, 'No': 0})\n",
        "\n",
        "# Balance the dataset using SMOTE\n",
        "smote = SMOTE(random_state=42)\n",
        "X_resampled, y_resampled = smote.fit_resample(X, y)\n",
        "\n",
        "# Split into train and test sets\n",
        "X_train, X_test, y_train, y_test = train_test_split(X_resampled, y_resampled, test_size=0.2, random_state=42)\n",
        "\n",
        "# Train the Decision Tree Classifier\n",
        "clf = DecisionTreeClassifier(random_state=42)\n",
        "clf.fit(X_train, y_train)\n",
        "\n",
        "# Function to make predictions\n",
        "def predict_heart_disease(input_data):\n",
        "    # Create a DataFrame with the input data\n",
        "    input_df = pd.DataFrame([input_data], columns=X.columns)\n",
        "\n",
        "    # Ensure all columns are present (fill missing columns with 0)\n",
        "    for col in X.columns:\n",
        "        if col not in input_df.columns:\n",
        "            input_df[col] = 0\n",
        "\n",
        "    # Reorder columns to match the model's expectations\n",
        "    input_df = input_df[X.columns]\n",
        "\n",
        "    # Make prediction\n",
        "    prediction = clf.predict(input_df)\n",
        "    return \"Yes\" if prediction[0] == 1 else \"No\"\n",
        "\n",
        "# Streamlit app\n",
        "st.title(\"Heart Disease Prediction\")\n",
        "\n",
        "# Input fields\n",
        "bmi = st.number_input(\"BMI\", min_value=0.0, max_value=100.0, value=25.0)\n",
        "smoking = st.selectbox(\"Smoking\", [0, 1])\n",
        "alcohol_drinking = st.selectbox(\"Alcohol Drinking\", [0, 1])\n",
        "stroke = st.selectbox(\"Stroke\", [0, 1])\n",
        "physical_health = st.number_input(\"Physical Health (Days Not Good in Past 30)\", min_value=0, max_value=30, value=0)\n",
        "mental_health = st.number_input(\"Mental Health (Days Not Good in Past 30)\", min_value=0, max_value=30, value=0)\n",
        "diff_walking = st.selectbox(\"Difficulty Walking\", [0, 1])\n",
        "sex = st.selectbox(\"Sex\", [\"Female\", \"Male\"])\n",
        "age_category = st.selectbox(\"Age Category\", [\"25-29\", \"30-34\", \"35-39\", \"40-44\", \"50-54\", \"70-74\"])\n",
        "race = st.selectbox(\"Race\", [\"White\", \"Hispanic\", \"Black\", \"Asian\", \"American Indian/Alaskan Native\"])\n",
        "diabetic = st.selectbox(\"Diabetic Status\", [\"No\", \"No, borderline diabetes\", \"Yes (during pregnancy)\", \"Yes\"])\n",
        "physical_activity = st.selectbox(\"Physical Activity\", [0, 1])\n",
        "gen_health = st.selectbox(\"General Health\", [\"Poor\", \"Fair\", \"Good\", \"Very Good\", \"Excellent\"])\n",
        "sleep_time = st.number_input(\"Sleep Time (Hours)\", min_value=0, max_value=24, value=7)\n",
        "asthma = st.selectbox(\"Asthma\", [0, 1])\n",
        "kidney_disease = st.selectbox(\"Kidney Disease\", [0, 1])\n",
        "skin_cancer = st.selectbox(\"Skin Cancer\", [0, 1])\n",
        "\n",
        "# Prepare input data\n",
        "input_data = {\n",
        "    'BMI': bmi,\n",
        "    'Smoking': smoking,\n",
        "    'AlcoholDrinking': alcohol_drinking,\n",
        "    'Stroke': stroke,\n",
        "    'PhysicalHealth': physical_health,\n",
        "    'MentalHealth': mental_health,\n",
        "    'DiffWalking': diff_walking,\n",
        "    'Sex_Male': 1 if sex == \"Male\" else 0,\n",
        "    'AgeCategory_30-34': 1 if age_category == \"30-34\" else 0,\n",
        "    'AgeCategory_35-39': 1 if age_category == \"35-39\" else 0,\n",
        "    'AgeCategory_40-44': 1 if age_category == \"40-44\" else 0,\n",
        "    'AgeCategory_50-54': 1 if age_category == \"50-54\" else 0,\n",
        "    'AgeCategory_70-74': 1 if age_category == \"70-74\" else 0,\n",
        "    'Race_Hispanic': 1 if race == \"Hispanic\" else 0,\n",
        "    'Race_Black': 1 if race == \"Black\" else 0,\n",
        "    'Race_Asian': 1 if race == \"Asian\" else 0,\n",
        "    'Race_American Indian/Alaskan Native': 1 if race == \"American Indian/Alaskan Native\" else 0,\n",
        "    'Diabetic_No, borderline diabetes': 1 if diabetic == \"No, borderline diabetes\" else 0,\n",
        "    'Diabetic_Yes (during pregnancy)': 1 if diabetic == \"Yes (during pregnancy)\" else 0,\n",
        "    'Diabetic_Yes': 1 if diabetic == \"Yes\" else 0,\n",
        "    'PhysicalActivity': physical_activity,\n",
        "    'GenHealth_Fair': 1 if gen_health == \"Fair\" else 0,\n",
        "    'GenHealth_Good': 1 if gen_health == \"Good\" else 0,\n",
        "    'GenHealth_Very Good': 1 if gen_health == \"Very Good\" else 0,\n",
        "    'GenHealth_Excellent': 1 if gen_health == \"Excellent\" else 0,\n",
        "    'SleepTime': sleep_time,\n",
        "    'Asthma': asthma,\n",
        "    'KidneyDisease': kidney_disease,\n",
        "    'SkinCancer': skin_cancer\n",
        "}\n",
        "\n",
        "# Predict button\n",
        "if st.button(\"Predict\"):\n",
        "    result = predict_heart_disease(input_data)\n",
        "    st.write(f\"Heart Disease Prediction: {result}\")"
      ],
      "metadata": {
        "colab": {
          "base_uri": "https://localhost:8080/"
        },
        "id": "3IO6mMf6D57R",
        "outputId": "40b514fb-566c-4275-ff13-f5cbc3816e04"
      },
      "execution_count": 10,
      "outputs": [
        {
          "output_type": "stream",
          "name": "stdout",
          "text": [
            "Overwriting app.py\n"
          ]
        }
      ]
    },
    {
      "cell_type": "code",
      "source": [
        "! wget -q -O - ipv4.icanhazip.com  ##for getting the code"
      ],
      "metadata": {
        "colab": {
          "base_uri": "https://localhost:8080/"
        },
        "id": "yDxjD--MEVqi",
        "outputId": "5b262040-a138-4849-c074-dde40d85bae5"
      },
      "execution_count": 11,
      "outputs": [
        {
          "output_type": "stream",
          "name": "stdout",
          "text": [
            "34.173.149.221\n"
          ]
        }
      ]
    },
    {
      "cell_type": "code",
      "source": [
        "! streamlit run app.py & npx localtunnel --port 8501"
      ],
      "metadata": {
        "colab": {
          "base_uri": "https://localhost:8080/"
        },
        "id": "kXwM0LlHEeSq",
        "outputId": "96258807-86cd-482f-b4ad-4422de91a443"
      },
      "execution_count": null,
      "outputs": [
        {
          "output_type": "stream",
          "name": "stdout",
          "text": [
            "\n",
            "Collecting usage statistics. To deactivate, set browser.gatherUsageStats to false.\n",
            "\u001b[0m\n",
            "\u001b[1G\u001b[0K⠙\u001b[1G\u001b[0K⠹\u001b[1G\u001b[0K⠸\u001b[0m\n",
            "\u001b[34m\u001b[1m  You can now view your Streamlit app in your browser.\u001b[0m\n",
            "\u001b[0m\n",
            "\u001b[34m  Local URL: \u001b[0m\u001b[1mhttp://localhost:8501\u001b[0m\n",
            "\u001b[34m  Network URL: \u001b[0m\u001b[1mhttp://172.28.0.12:8501\u001b[0m\n",
            "\u001b[34m  External URL: \u001b[0m\u001b[1mhttp://34.173.149.221:8501\u001b[0m\n",
            "\u001b[0m\n",
            "\u001b[1G\u001b[0K⠼\u001b[1G\u001b[0K⠴\u001b[1G\u001b[0K⠦\u001b[1G\u001b[0K⠧\u001b[1G\u001b[0K⠇\u001b[1G\u001b[0K⠏\u001b[1G\u001b[0Kyour url is: https://three-readers-prove.loca.lt\n"
          ]
        }
      ]
    },
    {
      "cell_type": "code",
      "source": [],
      "metadata": {
        "id": "THkrEkjDEqrk"
      },
      "execution_count": null,
      "outputs": []
    }
  ]
}