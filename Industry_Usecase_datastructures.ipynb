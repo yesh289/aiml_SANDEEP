{
 "cells": [
  {
   "cell_type": "markdown",
   "id": "e69ba4d5-4508-4a32-b105-36b97faa1003",
   "metadata": {},
   "source": [
    "#### Industry usecase of sales data analysis, example-1"
   ]
  },
  {
   "cell_type": "code",
   "execution_count": 3,
   "id": "2c50cb27-cc4f-4348-98ae-ca63c124675e",
   "metadata": {},
   "outputs": [],
   "source": [
    "# Example dictionary for product sales analysis\n",
    "sales_data = {\n",
    "    \"ProductID\": [101, 102, 103, 104, 105, 106, 107, 108, 109, 110],\n",
    "    \"ProductName\": [\"Laptop\", \"Mouse\", \"Keyboard\", \"Monitor\", \"Chair\", \"Desk\", \"Webcam\", \"Headphones\", \"Printer\", \"Tablet\"],\n",
    "    \"Category\": [\"Electronics\", \"Accessories\", \"Accessories\", \"Electronics\", \"Furniture\", \"Furniture\", \"Electronics\", \"Accessories\", \"Electronics\", \"Electronics\"],\n",
    "    \"PriceRange\": [\"High\", \"Low\", \"Low\", \"Medium\", \"Medium\", \"Medium\", \"Low\", \"Low\", \"Medium\", \"High\"],\n",
    "    \"StockAvailable\": [15, 100, 75, 20, 10, 8, 50, 60, 25, 12],\n",
    "}"
   ]
  },
  {
   "cell_type": "code",
   "execution_count": 21,
   "id": "04f2129e-7308-4465-b333-08ef2db9c626",
   "metadata": {
    "scrolled": true
   },
   "outputs": [
    {
     "name": "stdout",
     "output_type": "stream",
     "text": [
      "ProductID {101, 102, 103, 104, 105, 106, 107, 108, 109, 110}\n",
      "/n\n",
      "ProductName {'Chair', 'Mouse', 'Desk', 'Keyboard', 'Printer', 'Monitor', 'Tablet', 'Laptop', 'Webcam', 'Headphones'}\n",
      "/n\n",
      "Category {'Furniture', 'Electronics', 'Accessories'}\n",
      "/n\n",
      "PriceRange {'High', 'Low', 'Medium'}\n",
      "/n\n",
      "StockAvailable {100, 8, 10, 75, 12, 15, 50, 20, 25, 60}\n",
      "/n\n"
     ]
    }
   ],
   "source": [
    "for k,v in sales_data.items():\n",
    "    print(k,set(v))\n",
    "    print('/n')"
   ]
  },
  {
   "cell_type": "markdown",
   "id": "6d7a7717-8244-48ff-a4bd-a1502c69831e",
   "metadata": {},
   "source": [
    "#### Industry use case data on reviews analysis, Example 2"
   ]
  },
  {
   "cell_type": "code",
   "execution_count": 9,
   "id": "ecab069d-04ee-448c-9382-b12f1152be90",
   "metadata": {},
   "outputs": [
    {
     "data": {
      "text/plain": [
       "{'Review1': {'WordCount': 14,\n",
       "  'UniqueWords': ['excellent',\n",
       "   'versatile',\n",
       "   'and',\n",
       "   'was',\n",
       "   'the',\n",
       "   'quality',\n",
       "   'product',\n",
       "   'functionality',\n",
       "   'prompt',\n",
       "   'delivery',\n",
       "   'is']},\n",
       " 'Review2': {'WordCount': 15,\n",
       "  'UniqueWords': ['service',\n",
       "   'to',\n",
       "   'customer',\n",
       "   'but',\n",
       "   'packaging',\n",
       "   'has',\n",
       "   'have',\n",
       "   'good',\n",
       "   'been',\n",
       "   'the',\n",
       "   'improve',\n",
       "   'better',\n",
       "   'could']},\n",
       " 'Review3': {'WordCount': 18,\n",
       "  'UniqueWords': ['works',\n",
       "   'excellent',\n",
       "   'customer',\n",
       "   'but',\n",
       "   'not',\n",
       "   'rate',\n",
       "   'very',\n",
       "   'the',\n",
       "   'fine',\n",
       "   'support',\n",
       "   'helpful',\n",
       "   'product',\n",
       "   'i',\n",
       "   'as',\n",
       "   'is']}}"
      ]
     },
     "execution_count": 9,
     "metadata": {},
     "output_type": "execute_result"
    }
   ],
   "source": [
    "# Original reviews dictionary\n",
    "reviews = {\n",
    "    \"Review1\": \"The product quality is excellent and delivery was prompt. The product functionality is versatile\",\n",
    "    \"Review2\": \"Good service but the packaging could have been better. The customer service has to improve\",\n",
    "    \"Review3\": \"The product works fine, but the customer support is not very helpful. I rate the product as excellent\",\n",
    "}\n",
    "\n",
    "# Result dictionary to store analysis of reviews\n",
    "review_analysis = {}\n",
    "\n",
    "# Process each review\n",
    "for key, review in reviews.items():\n",
    "    # Split the review into words\n",
    "    words = review.lower().replace('.', '').replace(',', '').split()\n",
    "    # Create a sub-dictionary with word count and unique words\n",
    "    review_analysis[key] = {\n",
    "        \"WordCount\": len(words),\n",
    "        \"UniqueWords\": list(set(words))\n",
    "    }\n",
    "\n",
    "review_analysis\n"
   ]
  },
  {
   "cell_type": "code",
   "execution_count": 29,
   "id": "93348039-e1d0-41f2-9fbd-da1d0ccba342",
   "metadata": {},
   "outputs": [],
   "source": [
    "d1 = {\"Ram\": 180, \"Shyam\":170,\"Ramya\":176,\"John\":165}"
   ]
  },
  {
   "cell_type": "code",
   "execution_count": 31,
   "id": "22644804-78e8-4e3d-a7e5-91bdbda45e93",
   "metadata": {},
   "outputs": [
    {
     "name": "stdout",
     "output_type": "stream",
     "text": [
      "Ram\n",
      "Shyam\n",
      "Ramya\n",
      "John\n"
     ]
    }
   ],
   "source": [
    "for k in d1.keys():\n",
    "    print(k)"
   ]
  },
  {
   "cell_type": "code",
   "execution_count": 33,
   "id": "87cfc39c-c547-424f-b78b-980912ef92df",
   "metadata": {},
   "outputs": [
    {
     "name": "stdout",
     "output_type": "stream",
     "text": [
      "180\n",
      "170\n",
      "176\n",
      "165\n"
     ]
    }
   ],
   "source": [
    "for v in d1.values():\n",
    "    print(v)"
   ]
  },
  {
   "cell_type": "code",
   "execution_count": 37,
   "id": "b91ede11-7927-4fe4-834f-62d462e0d046",
   "metadata": {},
   "outputs": [
    {
     "data": {
      "text/plain": [
       "{'Ram': 180, 'Shyam': 170, 'Ramya': 176, 'John': 165}"
      ]
     },
     "execution_count": 37,
     "metadata": {},
     "output_type": "execute_result"
    }
   ],
   "source": [
    "d1[\"John\"] = 165\n",
    "d1"
   ]
  },
  {
   "cell_type": "code",
   "execution_count": null,
   "id": "3ba88f11-6476-4c5b-9f72-198b0cfca96c",
   "metadata": {},
   "outputs": [],
   "source": []
  },
  {
   "cell_type": "code",
   "execution_count": null,
   "id": "8d358db0-f758-4e5a-af4f-58705d9f94ea",
   "metadata": {},
   "outputs": [],
   "source": []
  },
  {
   "cell_type": "code",
   "execution_count": null,
   "id": "f13a4b4d-976a-4320-8370-fde92467cf8a",
   "metadata": {},
   "outputs": [],
   "source": []
  }
 ],
 "metadata": {
  "kernelspec": {
   "display_name": "Python 3 (ipykernel)",
   "language": "python",
   "name": "python3"
  },
  "language_info": {
   "codemirror_mode": {
    "name": "ipython",
    "version": 3
   },
   "file_extension": ".py",
   "mimetype": "text/x-python",
   "name": "python",
   "nbconvert_exporter": "python",
   "pygments_lexer": "ipython3",
   "version": "3.12.7"
  }
 },
 "nbformat": 4,
 "nbformat_minor": 5
}
