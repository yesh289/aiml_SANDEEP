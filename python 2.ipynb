{
 "cells": [
  {
   "cell_type": "code",
   "execution_count": 9,
   "id": "2c794a8f-71fb-4fd9-90e8-fdf31baf2e76",
   "metadata": {},
   "outputs": [
    {
     "data": {
      "text/plain": [
       "{104: 4, 102: 7, 105: 2}"
      ]
     },
     "execution_count": 9,
     "metadata": {},
     "output_type": "execute_result"
    }
   ],
   "source": [
    "d={104: 4,102: 7,105: 2}\n",
    "d"
   ]
  },
  {
   "cell_type": "code",
   "execution_count": null,
   "id": "7bd60859-7c4d-4265-b60d-b71a65998d0f",
   "metadata": {},
   "outputs": [],
   "source": []
  },
  {
   "cell_type": "code",
   "execution_count": 11,
   "id": "2e97dcee-6704-47aa-91fd-2cb086e6da6d",
   "metadata": {},
   "outputs": [
    {
     "data": {
      "text/plain": [
       "4"
      ]
     },
     "execution_count": 11,
     "metadata": {},
     "output_type": "execute_result"
    }
   ],
   "source": [
    "d[104]"
   ]
  },
  {
   "cell_type": "code",
   "execution_count": 13,
   "id": "4d64e9f9-fe14-4c0f-9d16-311fbac4d84b",
   "metadata": {},
   "outputs": [],
   "source": [
    "d[104]=200"
   ]
  },
  {
   "cell_type": "code",
   "execution_count": 15,
   "id": "23a47a7c-5016-4a46-ad69-42d74189d31f",
   "metadata": {},
   "outputs": [],
   "source": [
    "d.update()"
   ]
  },
  {
   "cell_type": "code",
   "execution_count": 17,
   "id": "4148cc89-47b1-4d69-b5c2-afadafc62496",
   "metadata": {},
   "outputs": [
    {
     "data": {
      "text/plain": [
       "{104: 200, 102: 7, 105: 2}"
      ]
     },
     "execution_count": 17,
     "metadata": {},
     "output_type": "execute_result"
    }
   ],
   "source": [
    "d"
   ]
  },
  {
   "cell_type": "code",
   "execution_count": 30,
   "id": "d0b2cea8-52f6-449a-8377-9f069e796f0a",
   "metadata": {},
   "outputs": [],
   "source": [
    "d.update({105: 289})"
   ]
  },
  {
   "cell_type": "code",
   "execution_count": 32,
   "id": "53310e1d-942f-4195-be76-347631116d8e",
   "metadata": {},
   "outputs": [
    {
     "data": {
      "text/plain": [
       "{104: 200, 102: 7, 105: 289}"
      ]
     },
     "execution_count": 32,
     "metadata": {},
     "output_type": "execute_result"
    }
   ],
   "source": [
    "d"
   ]
  },
  {
   "cell_type": "code",
   "execution_count": 34,
   "id": "de43ebf0-d3d4-4246-9030-245ee40e15c1",
   "metadata": {},
   "outputs": [],
   "source": [
    "d.update({109: 'yesh'})"
   ]
  },
  {
   "cell_type": "code",
   "execution_count": 36,
   "id": "b2d752b1-f9ed-4a6b-a2f0-5c01936ad18a",
   "metadata": {},
   "outputs": [
    {
     "data": {
      "text/plain": [
       "{104: 200, 102: 7, 105: 289, 109: 'yesh'}"
      ]
     },
     "execution_count": 36,
     "metadata": {},
     "output_type": "execute_result"
    }
   ],
   "source": [
    "d"
   ]
  },
  {
   "cell_type": "code",
   "execution_count": 38,
   "id": "3704153f-6062-4fd1-ab4a-6da08e6786fa",
   "metadata": {},
   "outputs": [],
   "source": [
    "d[7]=5"
   ]
  },
  {
   "cell_type": "code",
   "execution_count": 40,
   "id": "2246887b-d14b-421e-a1a9-591213cc4777",
   "metadata": {},
   "outputs": [
    {
     "data": {
      "text/plain": [
       "{104: 200, 102: 7, 105: 289, 109: 'yesh', 7: 5}"
      ]
     },
     "execution_count": 40,
     "metadata": {},
     "output_type": "execute_result"
    }
   ],
   "source": [
    "d"
   ]
  },
  {
   "cell_type": "code",
   "execution_count": 42,
   "id": "40fbbeca-941c-4fed-b51f-a2314ce1cfca",
   "metadata": {},
   "outputs": [],
   "source": [
    "del d[105]"
   ]
  },
  {
   "cell_type": "code",
   "execution_count": 44,
   "id": "cf32e4fb-00f5-4eb6-b02c-87392baa42c7",
   "metadata": {},
   "outputs": [
    {
     "data": {
      "text/plain": [
       "{104: 200, 102: 7, 109: 'yesh', 7: 5}"
      ]
     },
     "execution_count": 44,
     "metadata": {},
     "output_type": "execute_result"
    }
   ],
   "source": [
    "d"
   ]
  },
  {
   "cell_type": "code",
   "execution_count": 46,
   "id": "98069ce8-75b2-4fed-b65c-d3fd2c980590",
   "metadata": {},
   "outputs": [
    {
     "data": {
      "text/plain": [
       "5"
      ]
     },
     "execution_count": 46,
     "metadata": {},
     "output_type": "execute_result"
    }
   ],
   "source": [
    "d[7]"
   ]
  },
  {
   "cell_type": "code",
   "execution_count": 50,
   "id": "b315de12-fc03-4cc2-b6fe-fed4950ec862",
   "metadata": {},
   "outputs": [],
   "source": [
    "d.update({102: 89})"
   ]
  },
  {
   "cell_type": "code",
   "execution_count": 52,
   "id": "818966b0-4ebe-4fb7-8d80-7d04bf643595",
   "metadata": {},
   "outputs": [
    {
     "data": {
      "text/plain": [
       "{104: 200, 102: 89, 109: 'yesh', 7: 5}"
      ]
     },
     "execution_count": 52,
     "metadata": {},
     "output_type": "execute_result"
    }
   ],
   "source": [
    "d"
   ]
  },
  {
   "cell_type": "code",
   "execution_count": 54,
   "id": "ce47b836-cc31-445f-9022-f3fa76e61a06",
   "metadata": {},
   "outputs": [
    {
     "data": {
      "text/plain": [
       "200"
      ]
     },
     "execution_count": 54,
     "metadata": {},
     "output_type": "execute_result"
    }
   ],
   "source": [
    "d.get(104)"
   ]
  },
  {
   "cell_type": "code",
   "execution_count": 56,
   "id": "daa02d14-109b-4113-806c-eff24fa6ad05",
   "metadata": {},
   "outputs": [
    {
     "data": {
      "text/plain": [
       "dict_keys([104, 102, 109, 7])"
      ]
     },
     "execution_count": 56,
     "metadata": {},
     "output_type": "execute_result"
    }
   ],
   "source": [
    "d.keys()"
   ]
  },
  {
   "cell_type": "code",
   "execution_count": 58,
   "id": "1563da9f-7702-44d4-af18-6804b979f89b",
   "metadata": {},
   "outputs": [
    {
     "data": {
      "text/plain": [
       "dict_values([200, 89, 'yesh', 5])"
      ]
     },
     "execution_count": 58,
     "metadata": {},
     "output_type": "execute_result"
    }
   ],
   "source": [
    "d.values()"
   ]
  },
  {
   "cell_type": "code",
   "execution_count": 66,
   "id": "1892f7fa-47e7-4099-af25-79f6a1d86ab1",
   "metadata": {},
   "outputs": [],
   "source": [
    "d.update({104: 'yesh'})"
   ]
  },
  {
   "cell_type": "code",
   "execution_count": 68,
   "id": "53bd1b65-f44c-4630-9ceb-e40e4b089411",
   "metadata": {},
   "outputs": [
    {
     "data": {
      "text/plain": [
       "{104: 'yesh', 102: 89, 109: 'yesh', 7: 5}"
      ]
     },
     "execution_count": 68,
     "metadata": {},
     "output_type": "execute_result"
    }
   ],
   "source": [
    "d"
   ]
  },
  {
   "cell_type": "markdown",
   "id": "3e2b1c63-dcc6-46c4-a4bd-2ebc2238a96e",
   "metadata": {},
   "source": [
    "{101: 200,\n",
    " 102: 56,\n",
    " 103: 'yesh',\n",
    " 104: true,\n",
    " 105: 10.2}"
   ]
  },
  {
   "cell_type": "code",
   "execution_count": 71,
   "id": "8af52f71-52f3-4ab4-997b-984ff64a04c9",
   "metadata": {},
   "outputs": [
    {
     "data": {
      "text/plain": [
       "dict"
      ]
     },
     "execution_count": 71,
     "metadata": {},
     "output_type": "execute_result"
    }
   ],
   "source": [
    "type(d)"
   ]
  },
  {
   "cell_type": "code",
   "execution_count": 75,
   "id": "d0aab433-94d2-4a65-865e-2addf69d067b",
   "metadata": {},
   "outputs": [],
   "source": [
    "d= {104: 'yesh', 102: 89, 109: 'yesh', 7: 5}"
   ]
  },
  {
   "cell_type": "code",
   "execution_count": 77,
   "id": "9d520f8c-7a22-45d8-a00e-8274715813af",
   "metadata": {},
   "outputs": [
    {
     "data": {
      "text/plain": [
       "str"
      ]
     },
     "execution_count": 77,
     "metadata": {},
     "output_type": "execute_result"
    }
   ],
   "source": [
    "type(d[104])"
   ]
  },
  {
   "cell_type": "code",
   "execution_count": 87,
   "id": "210a9c7e-135d-4da5-9cbf-73ee9af34844",
   "metadata": {},
   "outputs": [
    {
     "data": {
      "text/plain": [
       "'upper'"
      ]
     },
     "execution_count": 87,
     "metadata": {},
     "output_type": "execute_result"
    }
   ],
   "source": [
    "e = 'upper'\n",
    "e"
   ]
  },
  {
   "cell_type": "code",
   "execution_count": 89,
   "id": "3b137772-cb82-4e05-a5b4-7ed42ff4c221",
   "metadata": {},
   "outputs": [
    {
     "data": {
      "text/plain": [
       "'UPPER'"
      ]
     },
     "execution_count": 89,
     "metadata": {},
     "output_type": "execute_result"
    }
   ],
   "source": [
    "e.upper()"
   ]
  },
  {
   "cell_type": "code",
   "execution_count": 93,
   "id": "0426e60a-ba7f-496c-86c8-075f97e4571c",
   "metadata": {},
   "outputs": [
    {
     "data": {
      "text/plain": [
       "False"
      ]
     },
     "execution_count": 93,
     "metadata": {},
     "output_type": "execute_result"
    }
   ],
   "source": [
    "e.isdigit()"
   ]
  },
  {
   "cell_type": "code",
   "execution_count": 95,
   "id": "51a16a3f-6480-42aa-9a27-b41565dbf89c",
   "metadata": {},
   "outputs": [
    {
     "data": {
      "text/plain": [
       "'YESH'"
      ]
     },
     "execution_count": 95,
     "metadata": {},
     "output_type": "execute_result"
    }
   ],
   "source": [
    "d[104].upper()"
   ]
  },
  {
   "cell_type": "code",
   "execution_count": 97,
   "id": "df44f25b-b6d1-4f5e-b3ca-7a2701993ffb",
   "metadata": {},
   "outputs": [
    {
     "data": {
      "text/plain": [
       "False"
      ]
     },
     "execution_count": 97,
     "metadata": {},
     "output_type": "execute_result"
    }
   ],
   "source": [
    "d[104].isdigit()"
   ]
  },
  {
   "cell_type": "code",
   "execution_count": 101,
   "id": "8d164ba5-545b-45d6-93d4-9a1a4021395a",
   "metadata": {},
   "outputs": [
    {
     "data": {
      "text/plain": [
       "['yesh']"
      ]
     },
     "execution_count": 101,
     "metadata": {},
     "output_type": "execute_result"
    }
   ],
   "source": [
    "d[104].split()"
   ]
  },
  {
   "cell_type": "code",
   "execution_count": null,
   "id": "774ab154-c1e1-4d6a-9912-674042ae207e",
   "metadata": {},
   "outputs": [],
   "source": []
  }
 ],
 "metadata": {
  "kernelspec": {
   "display_name": "Python 3 (ipykernel)",
   "language": "python",
   "name": "python3"
  },
  "language_info": {
   "codemirror_mode": {
    "name": "ipython",
    "version": 3
   },
   "file_extension": ".py",
   "mimetype": "text/x-python",
   "name": "python",
   "nbconvert_exporter": "python",
   "pygments_lexer": "ipython3",
   "version": "3.12.4"
  }
 },
 "nbformat": 4,
 "nbformat_minor": 5
}
